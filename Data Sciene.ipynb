{
  "cells": [
    {
      "cell_type": "markdown",
      "metadata": {
        "id": "view-in-github",
        "colab_type": "text"
      },
      "source": [
        "<a href=\"https://colab.research.google.com/github/naren2704/copy-file/blob/main/Data%20Sciene.ipynb\" target=\"_parent\"><img src=\"https://colab.research.google.com/assets/colab-badge.svg\" alt=\"Open In Colab\"/></a>"
      ]
    },
    {
      "cell_type": "markdown",
      "source": [
        "IMPORT\n"
      ],
      "metadata": {
        "id": "Fa8A1aFLAi20"
      }
    },
    {
      "cell_type": "markdown",
      "source": [
        "NAREN"
      ],
      "metadata": {
        "id": "P7AJ362ZBwRe"
      }
    },
    {
      "cell_type": "markdown",
      "source": [
        "numpy version\n",
        "\n"
      ],
      "metadata": {
        "id": "AOsWmwu1B0NC"
      }
    },
    {
      "cell_type": "code",
      "source": [
        "pip install numpy"
      ],
      "metadata": {
        "colab": {
          "base_uri": "https://localhost:8080/"
        },
        "id": "Ys1D0ttwCFhC",
        "outputId": "fb2515d8-9d5e-4f90-a070-e6aa67c98974"
      },
      "execution_count": 1,
      "outputs": [
        {
          "output_type": "stream",
          "name": "stdout",
          "text": [
            "Requirement already satisfied: numpy in /usr/local/lib/python3.10/dist-packages (1.25.2)\n"
          ]
        }
      ]
    },
    {
      "cell_type": "code",
      "source": [
        "import numpy as np"
      ],
      "metadata": {
        "id": "VhJIbALICKRf"
      },
      "execution_count": 2,
      "outputs": []
    },
    {
      "cell_type": "code",
      "source": [
        "np.__version__"
      ],
      "metadata": {
        "colab": {
          "base_uri": "https://localhost:8080/",
          "height": 36
        },
        "id": "yczFTngQCTDj",
        "outputId": "b94dfb14-614a-4431-9b2c-5e01d6866036"
      },
      "execution_count": 5,
      "outputs": [
        {
          "output_type": "execute_result",
          "data": {
            "text/plain": [
              "'1.25.2'"
            ],
            "application/vnd.google.colaboratory.intrinsic+json": {
              "type": "string"
            }
          },
          "metadata": {},
          "execution_count": 5
        }
      ]
    },
    {
      "cell_type": "code",
      "source": [
        "a=np.array(1)\n",
        "print(a)"
      ],
      "metadata": {
        "colab": {
          "base_uri": "https://localhost:8080/"
        },
        "id": "B2eYZ-19Cd09",
        "outputId": "d5b3bc68-b7f6-4b50-8c35-29b19982c782"
      },
      "execution_count": 6,
      "outputs": [
        {
          "output_type": "stream",
          "name": "stdout",
          "text": [
            "1\n"
          ]
        }
      ]
    },
    {
      "cell_type": "markdown",
      "source": [
        "1 DIMENSIONAL ARRAY"
      ],
      "metadata": {
        "id": "voFV8zVtDslh"
      }
    },
    {
      "cell_type": "code",
      "source": [
        "b=np.array([1,2,3])\n",
        "print(b)"
      ],
      "metadata": {
        "colab": {
          "base_uri": "https://localhost:8080/"
        },
        "id": "BpsjztJpDzbs",
        "outputId": "15c6ec4a-08cb-48d8-bacf-24ec3f3f9ead"
      },
      "execution_count": 7,
      "outputs": [
        {
          "output_type": "stream",
          "name": "stdout",
          "text": [
            "[1 2 3]\n"
          ]
        }
      ]
    },
    {
      "cell_type": "markdown",
      "source": [
        "2 DIMENSIONAL ARRAY"
      ],
      "metadata": {
        "id": "a3ESuT56E8O1"
      }
    },
    {
      "cell_type": "code",
      "source": [
        "c=np.array([[1,2,3],[4,5,6]])\n",
        "print(c)"
      ],
      "metadata": {
        "colab": {
          "base_uri": "https://localhost:8080/"
        },
        "id": "3e2rTuXJEaDH",
        "outputId": "52719a9c-053c-4bc4-bd6d-096d6d1588d4"
      },
      "execution_count": 8,
      "outputs": [
        {
          "output_type": "stream",
          "name": "stdout",
          "text": [
            "[[1 2 3]\n",
            " [4 5 6]]\n"
          ]
        }
      ]
    },
    {
      "cell_type": "markdown",
      "source": [
        "3 DIMENSIONAL ARRAY"
      ],
      "metadata": {
        "id": "aWJofZxMFoCb"
      }
    },
    {
      "cell_type": "code",
      "source": [
        "d=np.array([[[1,2,3],[4,5,6]],[[7,8,9],[10,11,12]]])\n",
        "print(d)"
      ],
      "metadata": {
        "colab": {
          "base_uri": "https://localhost:8080/"
        },
        "id": "Uv63RbsEEyD4",
        "outputId": "cb6faa38-2464-43ba-ac33-619dbb37baf6"
      },
      "execution_count": 9,
      "outputs": [
        {
          "output_type": "stream",
          "name": "stdout",
          "text": [
            "[[[ 1  2  3]\n",
            "  [ 4  5  6]]\n",
            "\n",
            " [[ 7  8  9]\n",
            "  [10 11 12]]]\n"
          ]
        }
      ]
    },
    {
      "cell_type": "markdown",
      "source": [
        "CHECKING ARRAY DIMENSION"
      ],
      "metadata": {
        "id": "p7Jwgiy7LcGK"
      }
    },
    {
      "cell_type": "code",
      "source": [
        "np.ndim(a)\n"
      ],
      "metadata": {
        "colab": {
          "base_uri": "https://localhost:8080/"
        },
        "id": "V2Nnl_MRG_Mo",
        "outputId": "f1d7879c-d76b-454c-9661-6c60892356b0"
      },
      "execution_count": 11,
      "outputs": [
        {
          "output_type": "execute_result",
          "data": {
            "text/plain": [
              "0"
            ]
          },
          "metadata": {},
          "execution_count": 11
        }
      ]
    },
    {
      "cell_type": "code",
      "source": [
        "np.ndim(b)"
      ],
      "metadata": {
        "colab": {
          "base_uri": "https://localhost:8080/"
        },
        "id": "fyVpUL_sL35V",
        "outputId": "8a75ecb6-bdad-49e8-a93b-b285fda3fe21"
      },
      "execution_count": 12,
      "outputs": [
        {
          "output_type": "execute_result",
          "data": {
            "text/plain": [
              "1"
            ]
          },
          "metadata": {},
          "execution_count": 12
        }
      ]
    },
    {
      "cell_type": "code",
      "source": [
        "np.ndim(c)"
      ],
      "metadata": {
        "colab": {
          "base_uri": "https://localhost:8080/"
        },
        "id": "3u2kXvGfMk-r",
        "outputId": "374896bf-454e-4c8a-913e-22ff559bb643"
      },
      "execution_count": 13,
      "outputs": [
        {
          "output_type": "execute_result",
          "data": {
            "text/plain": [
              "2"
            ]
          },
          "metadata": {},
          "execution_count": 13
        }
      ]
    },
    {
      "cell_type": "code",
      "source": [
        "np.ndim(d)"
      ],
      "metadata": {
        "colab": {
          "base_uri": "https://localhost:8080/"
        },
        "id": "yRtLSHqsMqHa",
        "outputId": "6c69a7c9-9678-4884-d9a4-c6a948882c06"
      },
      "execution_count": 15,
      "outputs": [
        {
          "output_type": "execute_result",
          "data": {
            "text/plain": [
              "3"
            ]
          },
          "metadata": {},
          "execution_count": 15
        }
      ]
    },
    {
      "cell_type": "markdown",
      "source": [
        "TO CHANGE DIMENSION\n"
      ],
      "metadata": {
        "id": "-rz0cSkpMx1U"
      }
    },
    {
      "cell_type": "code",
      "source": [
        "a=np.array([1,2,3,4,5,6],ndmin=2)\n",
        "print(a)"
      ],
      "metadata": {
        "colab": {
          "base_uri": "https://localhost:8080/"
        },
        "id": "IuOavKU-Msvx",
        "outputId": "8585965c-31bb-40a6-bc27-2160778d1e1c"
      },
      "execution_count": 19,
      "outputs": [
        {
          "output_type": "stream",
          "name": "stdout",
          "text": [
            "[[1 2 3 4 5 6]]\n"
          ]
        }
      ]
    },
    {
      "cell_type": "markdown",
      "source": [
        "ACCESSING THE ELEMENT\n",
        "\n"
      ],
      "metadata": {
        "id": "Xb_NMDLOOHdO"
      }
    },
    {
      "cell_type": "markdown",
      "source": [
        "1 DIMENSIONAL ELEMENT"
      ],
      "metadata": {
        "id": "Yp3gJnoUPVV-"
      }
    },
    {
      "cell_type": "code",
      "source": [
        "e=np.array([1,2,3,4,5,6])\n",
        "e[3]"
      ],
      "metadata": {
        "colab": {
          "base_uri": "https://localhost:8080/"
        },
        "id": "Lub0t_YyNKYn",
        "outputId": "223f97c0-9bea-4183-83da-afa7ef539ab2"
      },
      "execution_count": 18,
      "outputs": [
        {
          "output_type": "execute_result",
          "data": {
            "text/plain": [
              "4"
            ]
          },
          "metadata": {},
          "execution_count": 18
        }
      ]
    },
    {
      "cell_type": "markdown",
      "source": [
        "2 DIMENSIONAL ELEMENT\n"
      ],
      "metadata": {
        "id": "FKU_SMc1Pfn5"
      }
    },
    {
      "cell_type": "code",
      "source": [
        "f=np.array([[1,2,3,4,5],[6,7,8,9,10]])\n",
        "f[1,2]"
      ],
      "metadata": {
        "colab": {
          "base_uri": "https://localhost:8080/"
        },
        "id": "VOyp3vpOP23N",
        "outputId": "a0e14d86-3d31-424e-f662-c9438e129c76"
      },
      "execution_count": 26,
      "outputs": [
        {
          "output_type": "execute_result",
          "data": {
            "text/plain": [
              "8"
            ]
          },
          "metadata": {},
          "execution_count": 26
        }
      ]
    },
    {
      "cell_type": "code",
      "source": [
        "f[0,3]"
      ],
      "metadata": {
        "colab": {
          "base_uri": "https://localhost:8080/"
        },
        "id": "tYFPeW8yP6fi",
        "outputId": "19dabdbc-a4df-40e4-9d00-4f58d6867be7"
      },
      "execution_count": 27,
      "outputs": [
        {
          "output_type": "execute_result",
          "data": {
            "text/plain": [
              "4"
            ]
          },
          "metadata": {},
          "execution_count": 27
        }
      ]
    },
    {
      "cell_type": "markdown",
      "source": [
        "NEGATIVE INDEXING\n"
      ],
      "metadata": {
        "id": "IrLpoHMSQhHi"
      }
    },
    {
      "cell_type": "code",
      "source": [],
      "metadata": {
        "id": "hWfxClpoSEYt"
      },
      "execution_count": null,
      "outputs": []
    },
    {
      "cell_type": "code",
      "source": [
        "f[0,-2]"
      ],
      "metadata": {
        "colab": {
          "base_uri": "https://localhost:8080/"
        },
        "id": "3DpG5wVdQHMW",
        "outputId": "dc7cab1d-e664-466a-d114-4383f9312c95"
      },
      "execution_count": 28,
      "outputs": [
        {
          "output_type": "execute_result",
          "data": {
            "text/plain": [
              "4"
            ]
          },
          "metadata": {},
          "execution_count": 28
        }
      ]
    },
    {
      "cell_type": "code",
      "source": [
        "print(f[0,3:],f[1,4:]) #to get 4 , 5 and 10"
      ],
      "metadata": {
        "colab": {
          "base_uri": "https://localhost:8080/"
        },
        "id": "y7DBRHBXQK_f",
        "outputId": "387bfab9-1abf-4b63-db08-051b71703f40"
      },
      "execution_count": 34,
      "outputs": [
        {
          "output_type": "stream",
          "name": "stdout",
          "text": [
            "[4 5] [10]\n"
          ]
        }
      ]
    },
    {
      "cell_type": "code",
      "source": [],
      "metadata": {
        "id": "UPVrVM9KRop7"
      },
      "execution_count": null,
      "outputs": []
    }
  ],
  "metadata": {
    "colab": {
      "provenance": [],
      "authorship_tag": "ABX9TyNeQ3yfcK8hUu9gtLg125Gw",
      "include_colab_link": true
    },
    "kernelspec": {
      "display_name": "Python 3",
      "name": "python3"
    },
    "language_info": {
      "name": "python"
    }
  },
  "nbformat": 4,
  "nbformat_minor": 0
}